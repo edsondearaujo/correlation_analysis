{
  "nbformat": 4,
  "nbformat_minor": 0,
  "metadata": {
    "colab": {
      "provenance": [],
      "include_colab_link": true
    },
    "kernelspec": {
      "name": "python3",
      "display_name": "Python 3"
    },
    "language_info": {
      "name": "python"
    }
  },
  "cells": [
    {
      "cell_type": "markdown",
      "metadata": {
        "id": "view-in-github",
        "colab_type": "text"
      },
      "source": [
        "<a href=\"https://colab.research.google.com/github/edsondearaujo/correlation_analysis/blob/main/correlation_analisys_sample.ipynb\" target=\"_parent\"><img src=\"https://colab.research.google.com/assets/colab-badge.svg\" alt=\"Open In Colab\"/></a>"
      ]
    },
    {
      "cell_type": "markdown",
      "source": [
        "## Como testar a aplicação no Google Colab\n",
        "\n",
        "Este notebook foi dividido em várias células para facilitar a execução e compreensão das etapas do código. Aqui está um passo a passo para testar o projeto no Google Colab:\n",
        "\n",
        "### Passo 1: Executando as células\n",
        "Depois de abrir o notebook no Colab, siga os seguintes passos para rodar o código:\n",
        "\n",
        "1. **Selecione a célula** com o código que deseja executar clicando nela.\n",
        "2. **Pressione `Shift + Enter`** ou clique no botão de \"Play\" no topo da interface do Colab.\n",
        "   - Isso executará o código da célula e avançará automaticamente para a próxima célula.\n",
        "3. Para executar todas as células de uma vez, vá ao menu **\"Runtime\"** e clique em **\"Run all\"**.\n",
        "\n",
        "### Passo 2: Estrutura do notebook\n",
        "Este notebook está organizado em várias etapas. Aqui está uma visão geral de cada uma:\n",
        "\n",
        "1. **Instalação das dependências**:\n",
        "   - A primeira célula instala todas as bibliotecas necessárias para rodar o notebook, como `pandas`, `matplotlib` `seaborn`, e `google.colab`.\n",
        "   - Execute esta célula primeiro para garantir que todas as dependências estejam instaladas corretamente.\n",
        "\n",
        "2. **Imports**:\n",
        "   - A segunda célula contém os imports de todas as bibliotecas que serão utilizadas no código.\n",
        "   - Execute esta célula após a instalação das dependências.\n",
        "\n",
        "3. **Módulos de processamento**:\n",
        "   - As próximas células contêm as funções responsáveis por carregar, processar, e visualizar os dados em gráficos.\n",
        "   - Cada célula tem uma função específica e pode ser executada individualmente ou como parte do fluxo completo do código.\n",
        "\n",
        "4. **Main**:\n",
        "   - A célula final contém a função `main()`, que orquestra a execução de todo o fluxo de trabalho, desde o carregamento dos dados até a visualização dos gráficos.\n",
        "   - Execute esta célula por último para ver os resultados completos.\n",
        "\n",
        "### Passo 4: Visualizando os gráficos\n",
        "Após rodar a função `main()` e processar os dados, o notebook irá gerar gráficos que ajudam a visualizar a correlação entre diferentes métricas da sua planilha.\n",
        "\n",
        "Você pode visualizar esses gráficos diretamente no Google Colab.\n"
      ],
      "metadata": {
        "id": "Nav3LadOThd9"
      }
    },
    {
      "cell_type": "code",
      "source": [
        "# dependências\n",
        "%pip install pandas matplotlib seaborn openpyxl"
      ],
      "metadata": {
        "id": "VXI_pNqzSes8"
      },
      "execution_count": null,
      "outputs": []
    },
    {
      "cell_type": "code",
      "source": [
        "# Imports\n",
        "import pandas as pd\n",
        "import matplotlib.pyplot as plt\n",
        "import seaborn as sns\n",
        "from google.colab import files"
      ],
      "metadata": {
        "id": "LpaRnyW5S2Qh"
      },
      "execution_count": 3,
      "outputs": []
    },
    {
      "cell_type": "code",
      "source": [
        "#data_loader.py\n",
        "def load_data(file_path, sheet_name):\n",
        "    try:\n",
        "        data = pd.read_excel(file_path, sheet_name=sheet_name, engine='openpyxl')\n",
        "        print(f\"Dados carregados com sucesso da aba '{sheet_name}'\")\n",
        "        return data\n",
        "    except FileNotFoundError:\n",
        "        print(f\"Erro: O arquivo {file_path} não foi encontrado.\")\n",
        "    except Exception as e:\n",
        "        print(f\"Erro ao carregar os dados: {e}\")"
      ],
      "metadata": {
        "id": "Gf8mCkpzS_fL"
      },
      "execution_count": 4,
      "outputs": []
    },
    {
      "cell_type": "code",
      "source": [
        "#process_data.py\n",
        "def process_data(google_ads_data, ad_occurrences_data):\n",
        "    # Renomear colunas para consistência\n",
        "    google_ads_data.columns = ['Dia', 'Cliques', 'Impr.', 'Custo', 'CPC']\n",
        "    ad_occurrences_data.columns = ['data_formatada', 'Ocorrencia']\n",
        "\n",
        "    # Converter as colunas de data para datetime\n",
        "    google_ads_data['Dia'] = pd.to_datetime(google_ads_data['Dia'], errors='coerce')\n",
        "    ad_occurrences_data['data_formatada'] = pd.to_datetime(ad_occurrences_data['data_formatada'], errors='coerce')\n",
        "\n",
        "    # Checar se há valores nulos\n",
        "    if google_ads_data['Dia'].isnull().sum() > 0 or ad_occurrences_data['data_formatada'].isnull().sum() > 0:\n",
        "        print(\"Atenção: Existem datas inválidas ou nulas nos dados.\")\n",
        "\n",
        "    return google_ads_data, ad_occurrences_data"
      ],
      "metadata": {
        "id": "D4_GLuFpTCrc"
      },
      "execution_count": 5,
      "outputs": []
    },
    {
      "cell_type": "code",
      "source": [
        "def merge_data(google_ads_data, ad_occurrences_data):\n",
        "    merged_data = pd.merge(\n",
        "        google_ads_data,\n",
        "        ad_occurrences_data,\n",
        "        left_on='Dia',\n",
        "        right_on='data_formatada',\n",
        "        how='inner'  # Podemos ajustar o método dependendo do que você quiser visualizar\n",
        "    )\n",
        "\n",
        "    # Verificar o sucesso da mesclagem\n",
        "    if merged_data.empty:\n",
        "        print(\"Atenção: A mesclagem dos dados resultou em um DataFrame vazio. Verifique as datas.\")\n",
        "    else:\n",
        "        print(f\"Dados mesclados com sucesso. {len(merged_data)} linhas combinadas.\")\n",
        "\n",
        "    return merged_data"
      ],
      "metadata": {
        "id": "D3TSK9jRTFDK"
      },
      "execution_count": 6,
      "outputs": []
    },
    {
      "cell_type": "code",
      "source": [
        "def analyze_correlation(merged_data):\n",
        "    correlation = merged_data['CPC'].corr(merged_data['Ocorrencia'])\n",
        "    print(f\"Correlação entre CPC e Ocorrências de Anúncios: {correlation}\")\n",
        "    return correlation"
      ],
      "metadata": {
        "id": "AqkkBwBkTHPa"
      },
      "execution_count": 7,
      "outputs": []
    },
    {
      "cell_type": "code",
      "source": [
        "#visualization.py\n",
        "\n",
        "# Função para gráfico de dispersão\n",
        "def plot_scatter(merged_data):\n",
        "    plt.figure(figsize=(10, 6))\n",
        "    plt.scatter(merged_data['Ocorrencia'], merged_data['CPC'], alpha=0.7, c='blue', edgecolors='w', s=100)\n",
        "\n",
        "    plt.title('Dispersão entre Ocorrências de Anúncios e CPC')\n",
        "    plt.xlabel('Ocorrências de Anúncios')\n",
        "    plt.ylabel('CPC')\n",
        "    plt.grid(True)\n",
        "    plt.show()\n",
        "\n",
        "\n",
        "# Função para regressão linear\n",
        "def plot_regression(merged_data):\n",
        "    sns.lmplot(x='Ocorrencia', y='CPC', data=merged_data, aspect=1.5, scatter_kws={'alpha': 0.7})\n",
        "    plt.title('Regressão Linear: Ocorrências de Anúncios vs CPC')\n",
        "    plt.grid(True)\n",
        "    plt.show()\n",
        "\n",
        "# Análise temporal do CPC\n",
        "def plot_monthly_cpc_trend(google_ads_data):\n",
        "    # Filtrar os dados a partir de Abril/2023\n",
        "    google_ads_data_filtered = google_ads_data[google_ads_data['Dia'] >= '2023-04-01']\n",
        "\n",
        "    # Calcular a média mensal do CPC\n",
        "    monthly_cpc = google_ads_data_filtered.resample('ME', on='Dia')['CPC'].mean()\n",
        "\n",
        "    # Plotar gráfico de linha da queda do CPC ao longo dos meses\n",
        "    plt.figure(figsize=(10, 6))\n",
        "    plt.plot(monthly_cpc.index, monthly_cpc.values, marker='o', linestyle='-', color='b')\n",
        "    plt.title('Média Mensal do CPC (Abril 2023 em diante)')\n",
        "    plt.xlabel('Mês')\n",
        "    plt.ylabel('CPC Médio')\n",
        "    plt.grid(True)\n",
        "    plt.show()"
      ],
      "metadata": {
        "id": "y529xKL4TJNx"
      },
      "execution_count": 8,
      "outputs": []
    },
    {
      "cell_type": "code",
      "source": [
        "#main.py\n",
        "def main():\n",
        "    # Caminho para o arquivo no GitHub (link raw)\n",
        "    file_path = 'https://github.com/edsondearaujo/correlation_analysis/raw/main/data/cpc_data.xlsx'\n",
        "\n",
        "    # Carregar o arquivo Excel diretamente do GitHub\n",
        "    try:\n",
        "        df = pd.read_excel(file_path)\n",
        "        print(df.head())\n",
        "    except Exception as e:\n",
        "        print(f\"Erro ao carregar os dados: {e}\")\n",
        "\n",
        "    # Carregar dados de cada aba\n",
        "    google_ads_data = load_data(file_path, 'Relatório Google Ads + BrandMon')\n",
        "    ad_occurrences_data = load_data(file_path, 'Ocorrências de Anúncios')\n",
        "\n",
        "    if google_ads_data is not None and ad_occurrences_data is not None:\n",
        "        # Processar e limpar os dados\n",
        "        google_ads_data, ad_occurrences_data = process_data(google_ads_data, ad_occurrences_data)\n",
        "\n",
        "        # Mesclar os dados\n",
        "        merged_data = merge_data(google_ads_data, ad_occurrences_data)\n",
        "\n",
        "        if not merged_data.empty:\n",
        "            # Analisar correlação\n",
        "            analyze_correlation(merged_data)\n",
        "\n",
        "            # Plotar gráfico de dispersão\n",
        "            plot_scatter(merged_data)\n",
        "\n",
        "            # Plotar a queda do CPC ao longo dos meses (de abril 2023 em diante)\n",
        "            plot_monthly_cpc_trend(google_ads_data)\n",
        "\n",
        "            # Gerar uma regressão linear para entender melhor a relação\n",
        "            plot_regression(merged_data)\n",
        "\n",
        "if __name__ == '__main__':\n",
        "    main()\n"
      ],
      "metadata": {
        "id": "9kmULHtLTLgE"
      },
      "execution_count": null,
      "outputs": []
    }
  ]
}